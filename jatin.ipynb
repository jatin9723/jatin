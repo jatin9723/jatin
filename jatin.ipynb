{
  "nbformat": 4,
  "nbformat_minor": 0,
  "metadata": {
    "colab": {
      "provenance": []
    },
    "kernelspec": {
      "name": "python3",
      "display_name": "Python 3"
    },
    "language_info": {
      "name": "python"
    }
  },
  "cells": [
    {
      "cell_type": "markdown",
      "source": [],
      "metadata": {
        "id": "P6adlqv2CXz9"
      }
    },
    {
      "cell_type": "markdown",
      "source": [
        "#Function\n",
        "\n",
        "\n",
        "**FUNCTION\n",
        "*\n"
      ],
      "metadata": {
        "id": "Vzwbrf35CU9_"
      }
    },
    {
      "cell_type": "code",
      "execution_count": null,
      "metadata": {
        "id": "1z9FuyWKBwmT"
      },
      "outputs": [],
      "source": [
        "#QUESTION\n",
        "\n",
        "...\n",
        "THIS IS THE ANSWER\n",
        "..."
      ]
    },
    {
      "cell_type": "markdown",
      "source": [],
      "metadata": {
        "id": "sn80-Jv5CNfA"
      }
    },
    {
      "cell_type": "code",
      "source": [
        "#QUESTION\n",
        "\n",
        "...\n",
        "THIS IS THE ANSWER\n",
        "...\n"
      ],
      "metadata": {
        "id": "PDyC6jr5Df8r"
      },
      "execution_count": null,
      "outputs": []
    }
  ]
}